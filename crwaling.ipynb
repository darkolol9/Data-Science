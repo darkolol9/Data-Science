{
 "cells": [
  {
   "cell_type": "code",
   "execution_count": null,
   "metadata": {},
   "outputs": [],
   "source": [
    "import requests\n",
    "import json\n",
    "from bs4 import BeautifulSoup as bs"
   ]
  },
  {
   "cell_type": "code",
   "execution_count": null,
   "metadata": {},
   "outputs": [],
   "source": [
    "def get_all_normal_items():\n",
    "    all_normal_items = []\n",
    "    \n",
    "    with open('osrs_all_Items.json', 'r') as f:\n",
    "        all_items_names = json.load(f)\n",
    "\n",
    "    for i in range(len(all_items_names)):\n",
    "        try:\n",
    "            if(all_items_names[f'{i}']['type'] == 'normal'):\n",
    "                all_normal_items += [all_items_names[f'{i}']['name']]\n",
    "        except:\n",
    "            continue"
   ]
  }
 ],
 "metadata": {
  "language_info": {
   "name": "python"
  },
  "orig_nbformat": 4
 },
 "nbformat": 4,
 "nbformat_minor": 2
}
